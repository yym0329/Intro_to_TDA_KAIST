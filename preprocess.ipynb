{
 "cells": [
  {
   "cell_type": "code",
   "execution_count": null,
   "metadata": {},
   "outputs": [],
   "source": [
    "%pip install scipy\n",
    "%pip install ripser gudhi\n",
    "%pip install scikit-tda\n",
    "%pip install numpy\n",
    "%pip install tqdm\n",
    "%pip install networkx"
   ]
  },
  {
   "cell_type": "code",
   "execution_count": null,
   "metadata": {},
   "outputs": [],
   "source": [
    "from src.preprocessing.preprocessing import preprocess_matrix, load_and_construct_matrix\n",
    "import os\n",
    "from tqdm.notebook import tqdm\n",
    "\n",
    "data_path = \"data/nonrigid3d/\"\n",
    "preprocessing_export_path = \"data/preprocessing/\"\n",
    "networks = []\n",
    "mat_paths = []\n",
    "for file in tqdm(os.listdir(data_path)):\n",
    "    if file.endswith(\".mat\"):\n",
    "        mat_path = os.path.join(data_path, file)\n",
    "        G = load_and_construct_matrix(mat_path)\n",
    "        networks.append(G)\n",
    "        mat_paths.append(mat_path)\n",
    "\n",
    "fps_samples = []\n",
    "if not os.path.exists(preprocessing_export_path):\n",
    "    os.makedirs(preprocessing_export_path)\n"
   ]
  }
 ],
 "metadata": {
  "language_info": {
   "name": "python"
  },
  "orig_nbformat": 4
 },
 "nbformat": 4,
 "nbformat_minor": 2
}
