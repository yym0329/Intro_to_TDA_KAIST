{
 "cells": [
  {
   "cell_type": "code",
   "execution_count": null,
   "metadata": {},
   "outputs": [],
   "source": [
    "%pip install scipy\n",
    "%pip install ripser gudhi\n",
    "%pip install scikit-tda\n",
    "%pip install numpy\n",
    "%pip install tqdm\n",
    "%pip install networkx"
   ]
  },
  {
   "cell_type": "markdown",
   "metadata": {},
   "source": [
    "## 1. Preprocessing"
   ]
  },
  {
   "cell_type": "code",
   "execution_count": null,
   "metadata": {},
   "outputs": [],
   "source": [
    "from src.preprocessing.preprocessing import *\n"
   ]
  },
  {
   "cell_type": "markdown",
   "metadata": {},
   "source": [
    "VR persistence diagram with Ripser"
   ]
  },
  {
   "cell_type": "code",
   "execution_count": null,
   "metadata": {},
   "outputs": [],
   "source": []
  },
  {
   "cell_type": "code",
   "execution_count": 1,
   "metadata": {},
   "outputs": [
    {
     "name": "stdout",
     "output_type": "stream",
     "text": [
      "Found 148 shapes... ('data/preprocessed/pre_geodesic_gorilla8.mat', 'data/preprocessed/pre_geodesic_victoria1.mat'), ...\n"
     ]
    }
   ],
   "source": [
    "import os\n",
    "from src.shape.shape import *\n",
    "# Load preprocessed data\n",
    "\n",
    "data_path = \"data/preprocessed/\"\n",
    "shape_paths = []\n",
    "for file in os.listdir(data_path):\n",
    "    if file.endswith(\".mat\"):\n",
    "        shape_paths.append(data_path + file)\n",
    "\n",
    "print(f\"Found {len(shape_paths)} shapes... {shape_paths[0], shape_paths[1]}, ...\")\n",
    "shapes = []\n",
    "for f in shape_paths:\n",
    "    shapes.append(Shape(f))\n",
    "    \n",
    "    "
   ]
  }
 ],
 "metadata": {
  "kernelspec": {
   "display_name": "tda_newer",
   "language": "python",
   "name": "python3"
  },
  "language_info": {
   "codemirror_mode": {
    "name": "ipython",
    "version": 3
   },
   "file_extension": ".py",
   "mimetype": "text/x-python",
   "name": "python",
   "nbconvert_exporter": "python",
   "pygments_lexer": "ipython3",
   "version": "3.11.6"
  },
  "orig_nbformat": 4
 },
 "nbformat": 4,
 "nbformat_minor": 2
}
