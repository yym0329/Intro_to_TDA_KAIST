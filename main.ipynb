{
 "cells": [
  {
   "cell_type": "code",
   "execution_count": null,
   "metadata": {
    "ExecuteTime": {
     "end_time": "2023-11-29T07:30:56.176470Z",
     "start_time": "2023-11-29T07:30:46.696388Z"
    }
   },
   "outputs": [],
   "source": [
    "%pip install scipy\n",
    "%pip install ripser gudhi\n",
    "%pip install scikit-tda\n",
    "%pip install numpy\n",
    "%pip install tqdm\n",
    "%pip install networkx\n",
    "%pip install persim\n",
    "%pip install pot\n",
    "%pip install seaborn\n",
    "%pip install matplotlib\n",
    "%pip install pandas\n",
    "%pip install gudhi\n",
    "%pip install mayavi"
   ]
  },
  {
   "cell_type": "markdown",
   "metadata": {},
   "source": [
    "# Before Run, properly set the following variables:"
   ]
  },
  {
   "cell_type": "code",
   "execution_count": null,
   "metadata": {},
   "outputs": [],
   "source": [
    "geodesic_data_path = \"data/preprocessing/geodesic/\" # path to preprocessed geodesic data\n",
    "euclidean_data_path = \"data/preprocessing/euclidean/\" # path to preprocessed euclidean data"
   ]
  },
  {
   "cell_type": "markdown",
   "metadata": {},
   "source": [
    "## 1. Preprocessing"
   ]
  },
  {
   "cell_type": "code",
   "execution_count": null,
   "metadata": {
    "ExecuteTime": {
     "end_time": "2023-11-29T07:30:28.921103Z",
     "start_time": "2023-11-29T07:30:27.613514Z"
    }
   },
   "outputs": [],
   "source": [
    "from src.preprocessing.preprocessing import *\n",
    "import numpy as np\n",
    "from scipy.io import loadmat\n",
    "import re\n",
    "\n",
    "def load_data_from_mat(mat_dir):\n",
    "    mats = []\n",
    "    X = []\n",
    "    y = []\n",
    "\n",
    "    for file in os.listdir(mat_dir):\n",
    "        if file.endswith(\".mat\"):\n",
    "            mats.append(file)\n",
    "    mats.sort()\n",
    "\n",
    "    pattern = r'_([a-zA-Z]+)\\d+\\.mat'\n",
    "    for i in range(len(mats)):        \n",
    "        mat = loadmat(mat_dir + mats[i])\n",
    "        X.append(mat[\"dm\"])\n",
    "        class_name = re.search(pattern, mats[i])\n",
    "        \n",
    "        if class_name:\n",
    "            y.append(class_name.group(1))\n",
    "            print(f\"added {class_name.group(1)}\")\n",
    "        \n",
    "    X = np.stack(X)\n",
    "    return X, np.array(y)"
   ]
  },
  {
   "cell_type": "markdown",
   "metadata": {},
   "source": [
    "VR persistence diagram with Ripser"
   ]
  },
  {
   "cell_type": "code",
   "execution_count": null,
   "metadata": {
    "ExecuteTime": {
     "end_time": "2023-11-29T07:30:36.704210Z",
     "start_time": "2023-11-29T07:30:28.920756Z"
    }
   },
   "outputs": [],
   "source": [
    "import os\n",
    "from src.shape.shape import *\n",
    "from tqdm.notebook import tqdm\n",
    "# Load preprocessed data\n",
    "\n",
    "\n",
    "shape_paths = []\n",
    "for file in os.listdir(geodesic_data_path):\n",
    "    if file.endswith(\".mat\"):\n",
    "        shape_paths.append(geodesic_data_path + file)\n",
    "shape_paths.sort()\n",
    "print(f\"Found {len(shape_paths)} shapes... {shape_paths[0], shape_paths[1]}, ...\")\n",
    "\n",
    "shapes = []\n",
    "for f in tqdm(shape_paths, desc=\"Loading shapes\"):\n",
    "    shapes.append(load_from_mat(f))\n",
    "    \n",
    "print(f\"Loaded {len(shapes)} shapes... {shapes[0], shapes[1]}, ...\")\n",
    "\n",
    "\n",
    "# Load Euclidean Preprocessed data\n",
    "euclidean_shape_paths = []\n",
    "for file in os.listdir(euclidean_data_path):\n",
    "    if file.endswith(\".mat\"):\n",
    "        euclidean_shape_paths.append(euclidean_data_path + file)\n",
    "\n",
    "euclidean_shape_paths.sort()\n",
    "print(f\"Found {len(euclidean_shape_paths)} shapes... {euclidean_shape_paths[0], euclidean_shape_paths[1]}, ...\")\n",
    "\n",
    "euclidean_shapes = []\n",
    "for f in tqdm(euclidean_shape_paths, desc=\"Loading shapes\"):\n",
    "    euclidean_shapes.append(load_from_mat(f))"
   ]
  },
  {
   "cell_type": "markdown",
   "metadata": {},
   "source": [
    "### Visualize"
   ]
  },
  {
   "cell_type": "code",
   "execution_count": null,
   "metadata": {},
   "outputs": [],
   "source": [
    "import matplotlib.pyplot as plt\n",
    "from mayavi import mlab\n",
    "\n",
    "def show_shape(shape):\n",
    "    x = shape.coordinates[:, 0]\n",
    "    y = shape.coordinates[:, 1]\n",
    "    z = shape.coordinates[:, 2]\n",
    "\n",
    "    fig = plt.figure()\n",
    "    ax = fig.add_subplot(111, projection='3d')\n",
    "    ax.scatter(x, y, z, c=z, cmap='viridis')\n",
    "    plt.show()\n",
    "\n",
    "def show_shape_interactive(shape):\n",
    "    x = shape.coordinates[:, 0]\n",
    "    y = shape.coordinates[:, 1]\n",
    "    z = shape.coordinates[:, 2]\n",
    "\n",
    "    mlab.figure(bgcolor=(0, 0, 0))  # You can choose a background color\n",
    "    points = mlab.points3d(x, y, z, z, colormap='viridis', scale_mode='none', scale_factor=1.2)\n",
    "    mlab.axes()\n",
    "    mlab.show()\n",
    "\n",
    "\n"
   ]
  },
  {
   "cell_type": "markdown",
   "metadata": {},
   "source": [
    "Visualize shapes"
   ]
  },
  {
   "cell_type": "code",
   "execution_count": null,
   "metadata": {},
   "outputs": [],
   "source": [
    "shape_euc_0 = euclidean_shapes[0]\n",
    "\n",
    "show_shape_interactive(shape_euc_0)\n",
    "\n",
    "shape_0 = shapes[0]\n",
    "\n",
    "show_shape_interactive(shape_0)"
   ]
  },
  {
   "cell_type": "code",
   "execution_count": null,
   "metadata": {
    "ExecuteTime": {
     "start_time": "2023-11-29T07:30:36.711852Z"
    }
   },
   "outputs": [],
   "source": [
    "# Load distance matrix and labels\n",
    "import numpy as np\n",
    "from scipy.io import loadmat\n",
    "import re\n",
    "\n",
    "def load_data_from_mat(mat_dir):\n",
    "    mats = []\n",
    "    X = []\n",
    "    y = []\n",
    "\n",
    "    for file in os.listdir(mat_dir):\n",
    "        if file.endswith(\".mat\"):\n",
    "            mats.append(file)\n",
    "    mats.sort()\n",
    "\n",
    "    pattern = r'_([a-zA-Z]+)\\d+\\.mat'\n",
    "    for i in range(len(mats)):        \n",
    "        mat = loadmat(mat_dir + mats[i])\n",
    "        X.append(mat[\"dm\"])\n",
    "        class_name = re.search(pattern, mats[i])\n",
    "        \n",
    "        if class_name:\n",
    "            y.append(class_name.group(1))\n",
    "            # print(f\"added {class_name.group(1)}\")\n",
    "        \n",
    "    X = np.stack(X)\n",
    "    return X, np.array(y)\n",
    "\n",
    "euclidean_dataset_dir = \"data/preprocessing/euclidean/\"\n",
    "geodesic_dataset_dir = \"data/preprocessing/geodesic/\"\n",
    "\n",
    "X_euclidean, y_euclidean = load_data_from_mat(euclidean_dataset_dir)\n",
    "X_geodesic, y_geodesic = load_data_from_mat(geodesic_dataset_dir)\n",
    "\n",
    "print(f\"X_euclidean shape: {X_euclidean.shape}\")\n",
    "print(f\"X_geodesic shape: {X_geodesic.shape}\")\n",
    "\n",
    "print(f\"y_euclidean shape: {len(y_euclidean)}\")\n",
    "print(f\"y_geodesic shape: {len(y_geodesic)}\")\n"
   ]
  },
  {
   "cell_type": "code",
   "execution_count": null,
   "metadata": {
    "ExecuteTime": {
     "start_time": "2023-11-29T07:30:36.715498Z"
    }
   },
   "outputs": [],
   "source": [
    "import pandas as pd\n",
    "from matplotlib.patches import Rectangle\n",
    "from matplotlib import pyplot as plt\n",
    "\n",
    "y_df = pd.DataFrame({\"y\": y_geodesic})\n",
    "num_classes = y_df['y'].nunique()\n",
    "print(f\"Found {num_classes} classes\")\n",
    "\n",
    "def plot_distance_matrix(distance_matrix, distance_name):\n",
    "    plt.imshow(distance_matrix)\n",
    "\n",
    "    start = 0\n",
    "    curr=0\n",
    "    shape_classes = []\n",
    "    mean_between_cluster_distances = []\n",
    "    mean_within_cluster_distances = []\n",
    "    ratio_within_between_cluster_distances = []\n",
    "    std_between_cluster_distances = []\n",
    "    std_within_cluster_distances = []\n",
    "    for i in range(len(y_df)):\n",
    "        if y_df['y'][i] != y_df['y'][start]:\n",
    "            box_x = start\n",
    "            box_y = start\n",
    "            box_width = i - start\n",
    "            box_height = i - start\n",
    "            box = Rectangle((box_x , box_y ), box_width, box_height, fill=False, color='red', linewidth=1)\n",
    "            plt.gca().add_patch(box)\n",
    "            \n",
    "            \n",
    "            between_cluster_distances = np.concatenate([distance_matrix[start:i, :i], distance_matrix[start:i, i:]], axis = 1)\n",
    "            mean_between_cluster_distance = np.mean(between_cluster_distances)\n",
    "            std_between_cluster_distance = np.std(between_cluster_distances)\n",
    "            within_cluster_distances = distance_matrix[start:i, start:i]\n",
    "            mean_within_cluster_distance = np.mean(within_cluster_distances)\n",
    "            std_within_cluster_distance = np.std(within_cluster_distances)\n",
    "\n",
    "            ratio_within_between_cluster_distance = mean_within_cluster_distance / mean_between_cluster_distance\n",
    "            print(f\"Shape: {y_df['y'][start]}, mean_between_cluster_distance: {mean_between_cluster_distance}, mean_within_cluster_distance: {mean_within_cluster_distance}, ratio wcd/bcd: {ratio_within_between_cluster_distance},std_between_cluster_distance: {std_between_cluster_distance}, std_within_cluster_distance: {std_within_cluster_distance}\")\n",
    "            \n",
    "            shape_classes.append(y_df['y'][start])\n",
    "            mean_between_cluster_distances.append(mean_between_cluster_distance)\n",
    "            mean_within_cluster_distances.append(mean_within_cluster_distance)\n",
    "            std_between_cluster_distances.append(std_between_cluster_distance)\n",
    "            std_within_cluster_distances.append(std_within_cluster_distance)\n",
    "            ratio_within_between_cluster_distances.append(ratio_within_between_cluster_distance)\n",
    "            \n",
    "            start = i\n",
    "\n",
    "    box_x = start\n",
    "    box_y = start\n",
    "    box_width = len(y_df) - start\n",
    "    box_height = len(y_df) - start\n",
    "    box = Rectangle((box_x , box_y ), box_width, box_height, fill=False, color='red', linewidth=1)\n",
    "    plt.gca().add_patch(box)\n",
    "\n",
    "    plt.colorbar()\n",
    "    plt.title(distance_name + \" matrix\")\n",
    "    plt.savefig(distance_name + \"_matrix.png\")\n",
    "    plt.show()\n",
    "\n",
    "    np.savetxt(\"data/\" +distance_name+\"_heatmap.csv\", distance_matrix, delimiter=\",\")\n",
    "\n",
    "\n",
    "    distance_mean_df = pd.DataFrame({\"shape_class\": shape_classes, \n",
    "    \"mean_BCD\": mean_between_cluster_distances, \n",
    "    \"mean_WCD\": mean_within_cluster_distances,\n",
    "    \"ratio_WCD_BCD\": ratio_within_between_cluster_distances,\n",
    "    \"std_BCD\": std_between_cluster_distances,\n",
    "    \"std_WCD\": std_within_cluster_distances})\n",
    "    distance_mean_df.to_csv(f\"data/_{distance_name}_mean_distances.csv\")\n",
    "    return distance_mean_df\n",
    "\n",
    "\n",
    "def report_distance_matrix(distance_mean_df, distance_name):        \n",
    "    plt.figure(figsize=(10, 6))\n",
    "    plt.bar(distance_mean_df['shape_class'], distance_mean_df['mean_BCD'], 0.2,label='Between Cluster Distance', alpha=0.7,)\n",
    "    plt.bar(distance_mean_df['shape_class'], distance_mean_df['mean_WCD'], 0.2, label='Within Cluster Distance', alpha=0.7)\n",
    "\n",
    "    plt.xlabel('Shape Class')\n",
    "    plt.ylabel('mean Distance')\n",
    "    plt.title(f'Mean Between and Within Cluster Distances by Shape Class: {distance_name}')\n",
    "    plt.xticks(rotation=45)\n",
    "    plt.legend()\n",
    "    plt.tight_layout()\n",
    "\n",
    "    # Show the plot\n",
    "    plt.show()\n",
    "    print(distance_mean_df)\n",
    "\n",
    "\n"
   ]
  },
  {
   "cell_type": "code",
   "execution_count": null,
   "metadata": {},
   "outputs": [],
   "source": [
    "from tqdm.notebook import tqdm\n",
    "dDiam_matrix = np.zeros((len(shapes), len(shapes)))\n",
    "\n",
    "\n",
    "tqdm_bar = tqdm(total=len(shapes)**2 / 2, desc = \"Computing dDiam matrix\")\n",
    "for i in range(len(shapes)):\n",
    "    for j in range(i+1, len(shapes)):\n",
    "        dDiam_matrix[i,j] = dDiam(shapes[i], shapes[j])\n",
    "        dDiam_matrix[j,i] = dDiam_matrix[i,j]\n",
    "        tqdm_bar.update(1)\n",
    "\n",
    "tqdm_bar.close()\n",
    "# save to csv\n",
    "np.savetxt(\"data/dDiam_distance_matrix.csv\", dDiam_matrix, delimiter=\",\")\n"
   ]
  },
  {
   "cell_type": "code",
   "execution_count": null,
   "metadata": {},
   "outputs": [],
   "source": [
    "# plot dDiam matrix\n",
    "import matplotlib.pyplot as plt\n",
    "mean_df = plot_distance_matrix(dDiam_matrix, \"dDiam\")\n",
    "report_distance_matrix(mean_df, \"dDiam\")"
   ]
  },
  {
   "cell_type": "code",
   "execution_count": null,
   "metadata": {
    "ExecuteTime": {
     "start_time": "2023-11-29T07:30:36.717578Z"
    }
   },
   "outputs": [],
   "source": [
    "d_E_inf_matrix = np.zeros((len(shapes), len(shapes)))\n",
    "\n",
    "tqdm_bar = tqdm(total=len(shapes)**2 / 2, desc = \"Computing d_E_inf matrix\")\n",
    "for i in range(len(shapes)):\n",
    "    for j in range(i+1, len(shapes)):\n",
    "        d_E_inf_matrix[i,j] = d_E_inf(euclidean_shapes[i], euclidean_shapes[j])\n",
    "        d_E_inf_matrix[j,i] = d_E_inf_matrix[i,j]\n",
    "        tqdm_bar.update(1)\n",
    "\n",
    "\n",
    "tqdm_bar.close()\n",
    "# save to csv\n",
    "np.savetxt(\"data/d_E_inf_distance_matrix.csv\", d_E_inf_matrix, delimiter=\",\")"
   ]
  },
  {
   "cell_type": "code",
   "execution_count": null,
   "metadata": {
    "ExecuteTime": {
     "start_time": "2023-11-29T07:30:36.719354Z"
    }
   },
   "outputs": [],
   "source": [
    "# plot distance matrix\n",
    "\n",
    "mean_df = plot_distance_matrix(d_E_inf_matrix, \"d_E_inf\")\n",
    "report_distance_matrix(mean_df, \"d_E_inf\")"
   ]
  },
  {
   "cell_type": "code",
   "execution_count": null,
   "metadata": {
    "ExecuteTime": {
     "start_time": "2023-11-29T07:30:36.721395Z"
    }
   },
   "outputs": [],
   "source": [
    "d_G_1_matrix = np.zeros((len(shapes), len(shapes)))\n",
    "d_G_inf_matrix = np.zeros((len(shapes), len(shapes)))\n",
    "\n",
    "tqdm_bar = tqdm(total=len(shapes)**2 / 2, desc = \"Computing d_G_1 and g_G_inf matrix\")\n",
    "for i in range(len(shapes)):\n",
    "    for j in range(i+1, len(shapes)):\n",
    "        d_G_1_matrix[i,j] = d_G_wasserstein(shapes[i], shapes[j], q=1)\n",
    "        d_G_inf_matrix[i,j] = d_G_wasserstein(shapes[i], shapes[j], q=np.inf)\n",
    "        d_G_1_matrix[j,i] = d_G_1_matrix[i,j]\n",
    "        d_G_inf_matrix[j,i] = d_G_inf_matrix[i,j]\n",
    "        tqdm_bar.update(1)\n",
    "\n",
    "\n",
    "tqdm_bar.close()\n",
    "# save to csv\n",
    "np.savetxt(\"data/d_G_1_distance_matrix.csv\", d_G_1_matrix, delimiter=\",\")\n",
    "np.savetxt(\"data/d_G_inf_distance_matrix.csv\", d_G_inf_matrix, delimiter=\",\")\n"
   ]
  },
  {
   "cell_type": "code",
   "execution_count": null,
   "metadata": {
    "ExecuteTime": {
     "start_time": "2023-11-29T07:30:36.722789Z"
    }
   },
   "outputs": [],
   "source": [
    "mean_df_d_G_1 = plot_distance_matrix(d_G_1_matrix, \"d_G_1\")\n",
    "mean_df_d_G_inf = plot_distance_matrix(d_G_inf_matrix, \"d_G_inf\")\n",
    "\n",
    "report_distance_matrix(mean_df_d_G_1, \"d_G_1\")\n",
    "report_distance_matrix(mean_df_d_G_inf, \"d_G_inf\")"
   ]
  },
  {
   "cell_type": "code",
   "execution_count": null,
   "metadata": {},
   "outputs": [],
   "source": [
    "# compute the mean diameter of a class\n",
    "import numpy as np\n",
    "def mean_diameter_class(shapes, class_label, y_labels):\n",
    "    indices = np.where(y_labels == class_label)[0]\n",
    "    # print(indices)\n",
    "    # shapes_to_see = shapes[*indices]\n",
    "    diams = []\n",
    "    for i in indices:\n",
    "        diams.append(np.max(shapes[i].dm))\n",
    "    return np.mean(diams)\n",
    "\n"
   ]
  },
  {
   "cell_type": "code",
   "execution_count": null,
   "metadata": {},
   "outputs": [],
   "source": [
    "class_to_see = \"horse\"\n",
    "print(f\"mean diam of class {class_to_see} is {mean_diameter_class(shapes, class_to_see, y_geodesic)}\")\n",
    "class_to_see = \"seahorse\"\n",
    "print(f\"mean diam of class {class_to_see} is {mean_diameter_class(shapes, class_to_see, y_geodesic)}\")"
   ]
  },
  {
   "cell_type": "markdown",
   "metadata": {},
   "source": [
    "# Mean diameter for each class"
   ]
  },
  {
   "cell_type": "code",
   "execution_count": null,
   "metadata": {},
   "outputs": [],
   "source": [
    "unique_classes = np.unique(y_geodesic)\n",
    "\n",
    "mean_diams = []\n",
    "for c in unique_classes:\n",
    "    mean_diams.append(mean_diameter_class(shapes, c, y_geodesic))\n",
    "\n",
    "\n",
    "print(unique_classes)\n",
    "print(mean_diams)\n",
    "\n",
    "from matplotlib import pyplot as plt\n",
    "\n",
    "plt.figure(figsize=(10,6))\n",
    "plt.bar(unique_classes, mean_diams, color = \"skyblue\")\n",
    "plt.xlabel(\"Classes\")\n",
    "plt.ylabel(\"mean diameter\")\n",
    "plt.title(\"Mean diameter of each class (geodesic)\")\n",
    "plt.xticks(rotation=45)\n",
    "plt.show()\n"
   ]
  },
  {
   "cell_type": "code",
   "execution_count": null,
   "metadata": {},
   "outputs": [],
   "source": [
    "unique_classes = np.unique(y_geodesic)\n",
    "\n",
    "mean_diams = []\n",
    "for c in unique_classes:\n",
    "    mean_diams.append(mean_diameter_class(euclidean_shapes, c, y_euclidean))\n",
    "\n",
    "\n",
    "print(unique_classes)\n",
    "print(mean_diams)\n",
    "\n",
    "from matplotlib import pyplot as plt\n",
    "\n",
    "plt.figure(figsize=(10,6))\n",
    "plt.bar(unique_classes, mean_diams, color = \"skyblue\")\n",
    "plt.xlabel(\"Classes\")\n",
    "plt.ylabel(\"mean diameter\")\n",
    "plt.title(\"Mean diameter of each class (Euclidean)\")\n",
    "plt.xticks(rotation=45)\n",
    "plt.show()\n"
   ]
  },
  {
   "cell_type": "markdown",
   "metadata": {},
   "source": [
    "### Dendrogram: SLHC"
   ]
  },
  {
   "cell_type": "code",
   "execution_count": null,
   "metadata": {
    "ExecuteTime": {
     "start_time": "2023-11-29T07:30:36.733568Z"
    }
   },
   "outputs": [],
   "source": [
    "from scipy.cluster.hierarchy import single, dendrogram, complete\n",
    "from scipy.spatial.distance import squareform\n",
    "\n",
    "X_geodesic, y_geodesic = load_data_from_mat(geodesic_dataset_dir)\n",
    "X_euclidean, y_euclidean = load_data_from_mat(euclidean_dataset_dir)\n",
    "\n",
    "converted_d_G_1_matrix = squareform(d_G_1_matrix, checks= False)\n",
    "converted_d_G_inf_matrix = squareform(d_G_inf_matrix, checks= False)\n",
    "converted_d_E_inf_matrix = squareform(d_E_inf_matrix, checks= False)\n",
    "\n",
    "linked_d_G_1 = single(converted_d_G_1_matrix)\n",
    "linked_d_G_inf = single(converted_d_G_inf_matrix)\n",
    "linked_d_E_inf = single(converted_d_E_inf_matrix)\n",
    "\n",
    "plt.figure(0, figsize=(20, 7))\n",
    "dendrogram(linked_d_G_1, orientation='top', distance_sort='descending', show_leaf_counts=False, labels=y_geodesic, leaf_font_size=10)\n",
    "plt.title(\"d_G_1 dendrogram\")\n",
    "plt.xlabel(\"Shape index\")\n",
    "plt.ylabel(\"Distance\")\n",
    "plt.savefig(\"d_G_1_dendrogram.png\")\n",
    "plt.show()\n",
    "\n",
    "plt.figure(1, figsize=(20, 7))\n",
    "dendrogram(linked_d_G_inf, orientation='top', distance_sort='descending', show_leaf_counts=False, labels=y_geodesic, leaf_font_size=10)\n",
    "plt.title(\"d_G_inf dendrogram\")\n",
    "plt.xlabel(\"Shape index\")\n",
    "plt.ylabel(\"Distance\")\n",
    "plt.savefig(\"d_G_inf_dendrogram.png\")\n",
    "plt.show()\n",
    "\n",
    "plt.figure(2, figsize=(20, 7))\n",
    "dendrogram(linked_d_E_inf, orientation='top', distance_sort='descending', show_leaf_counts=False, labels = y_euclidean, leaf_font_size=10)\n",
    "plt.title(\"d_E_inf dendrogram\")\n",
    "plt.xlabel(\"Shape index\")\n",
    "plt.ylabel(\"Distance\")\n",
    "plt.savefig(\"d_E_inf_dendrogram.png\")\n",
    "plt.show()\n"
   ]
  },
  {
   "cell_type": "markdown",
   "metadata": {},
   "source": [
    "### Complete Linkage"
   ]
  },
  {
   "cell_type": "code",
   "execution_count": null,
   "metadata": {
    "ExecuteTime": {
     "start_time": "2023-11-29T07:30:36.734536Z"
    }
   },
   "outputs": [],
   "source": [
    "from scipy.cluster.hierarchy import single, dendrogram, complete\n",
    "from scipy.spatial.distance import squareform\n",
    "\n",
    "linked_d_G_1 = complete(converted_d_G_1_matrix)\n",
    "linked_d_G_inf = complete(converted_d_G_inf_matrix)\n",
    "linked_d_E_inf = complete(converted_d_E_inf_matrix)\n",
    "\n",
    "plt.figure(0, figsize=(20, 7))\n",
    "dendrogram(linked_d_G_1, orientation='top', distance_sort='descending', show_leaf_counts=False, labels=y_geodesic, leaf_font_size=10)\n",
    "plt.title(\"d_G_1 dendrogram\")\n",
    "plt.xlabel(\"Shape index\")\n",
    "plt.ylabel(\"Distance\")\n",
    "plt.savefig(\"d_G_1_dendrogram.png\")\n",
    "plt.show()\n",
    "\n",
    "plt.figure(1, figsize=(20, 7))\n",
    "dendrogram(linked_d_G_inf, orientation='top', distance_sort='descending', show_leaf_counts=False, labels=y_geodesic, leaf_font_size=10)\n",
    "plt.title(\"d_G_inf dendrogram\")\n",
    "plt.xlabel(\"Shape index\")\n",
    "plt.ylabel(\"Distance\")\n",
    "plt.savefig(\"d_G_inf_dendrogram.png\")\n",
    "plt.show()\n",
    "\n",
    "plt.figure(2, figsize=(20, 7))\n",
    "dendrogram(linked_d_E_inf, orientation='top', distance_sort='descending', show_leaf_counts=False, labels = y_euclidean, leaf_font_size=10)\n",
    "plt.title(\"d_E_inf dendrogram\")\n",
    "plt.xlabel(\"Shape index\")\n",
    "plt.ylabel(\"Distance\")\n",
    "plt.savefig(\"d_E_inf_dendrogram.png\")\n",
    "plt.show()"
   ]
  },
  {
   "cell_type": "markdown",
   "metadata": {},
   "source": [
    "## Multidimensional scaling Plot"
   ]
  },
  {
   "cell_type": "code",
   "execution_count": null,
   "metadata": {
    "ExecuteTime": {
     "start_time": "2023-11-29T07:30:36.735475Z"
    }
   },
   "outputs": [],
   "source": [
    "import seaborn as sns\n",
    "from sklearn.manifold import MDS\n",
    "\n",
    "mds_d_G_1 = MDS(n_components=2, dissimilarity=\"precomputed\", random_state=0)\n",
    "mds_d_G_inf = MDS(n_components=2, dissimilarity=\"precomputed\", random_state=0)\n",
    "mds_d_E_inf = MDS(n_components=2, dissimilarity=\"precomputed\", random_state=0)\n",
    "mds_d_Diam = MDS(n_components=2, dissimilarity=\"precomputed\", random_state=0)\n",
    "\n",
    "mds_result_d_G_1 = mds_d_G_1.fit_transform(d_G_1_matrix, )\n",
    "mds_result_d_G_inf = mds_d_G_inf.fit_transform(d_G_inf_matrix)\n",
    "mds_result_d_E_inf = mds_d_E_inf.fit_transform(d_E_inf_matrix)\n",
    "mds_result_d_Diam = mds_d_Diam.fit_transform(dDiam_matrix)\n",
    "\n",
    "colors = sns.color_palette(\"bright\", len(np.unique(y_geodesic)))\n",
    "\n",
    "plt.figure(0, figsize=(15, 7))\n",
    "for label in np.unique(y_geodesic):\n",
    "    indices = np.where(y_geodesic == label)[0]\n",
    "    plt.scatter(mds_result_d_G_1[indices,0], mds_result_d_G_1[indices,1], label = label, marker = 'o', )\n",
    "plt.title(\"d_G_1 MDS\")\n",
    "plt.legend()\n",
    "plt.show()\n",
    "\n",
    "plt.figure(1, figsize=(15, 7))\n",
    "for label in np.unique(y_geodesic):\n",
    "    indices = np.where(y_geodesic == label)[0]\n",
    "    plt.scatter(mds_result_d_G_inf[indices,0], mds_result_d_G_inf[indices,1], label = label, marker = 'o', )\n",
    "plt.title(\"d_G_inf MDS\")\n",
    "plt.legend()\n",
    "plt.show()\n",
    "\n",
    "plt.figure(2, figsize=(15, 7))\n",
    "for label in np.unique(y_euclidean):\n",
    "    indices = np.where(y_euclidean == label)[0]\n",
    "    plt.scatter(mds_result_d_E_inf[indices,0], mds_result_d_E_inf[indices,1], label = label, marker = 'o', )\n",
    "plt.title(\"d_E_inf MDS\")\n",
    "plt.legend()\n",
    "plt.show()\n",
    "\n",
    "plt.figure(3, figsize=(15, 7))\n",
    "for label in np.unique(y_geodesic):\n",
    "    indices = np.where(y_geodesic == label)[0]\n",
    "    plt.scatter(mds_result_d_Diam[indices,0], mds_result_d_Diam[indices,1], label = label, marker = 'o', )\n",
    "plt.title(\"d_Diam MDS\")\n",
    "plt.legend()\n",
    "plt.show()\n",
    "\n"
   ]
  },
  {
   "cell_type": "markdown",
   "metadata": {},
   "source": [
    "### Classification using dDiam"
   ]
  },
  {
   "cell_type": "code",
   "execution_count": null,
   "metadata": {
    "ExecuteTime": {
     "start_time": "2023-11-29T07:30:36.740173Z"
    }
   },
   "outputs": [],
   "source": [
    "# 1. dendrogram\n",
    "\n",
    "from scipy.cluster.hierarchy import single, dendrogram\n",
    "from scipy.spatial.distance import squareform\n",
    "\n",
    "converted_d_diam_matrix = squareform(dDiam_matrix, checks= False)\n",
    "\n",
    "linked_d_diam = complete(converted_d_diam_matrix)\n",
    "\n",
    "plt.figure(0, figsize=(15, 7))\n",
    "dendrogram(linked_d_diam, orientation='top', distance_sort='descending', show_leaf_counts=False, labels=y_geodesic)\n",
    "plt.title(\"dDiam dendrogram\")\n",
    "\n",
    "plt.xlabel(\"Shape index\")\n",
    "plt.ylabel(\"Distance\")\n",
    "plt.savefig(\"dDiam_dendrogram.png\")\n",
    "plt.show()"
   ]
  },
  {
   "cell_type": "code",
   "execution_count": null,
   "metadata": {
    "ExecuteTime": {
     "start_time": "2023-11-29T07:30:36.741433Z"
    }
   },
   "outputs": [],
   "source": [
    "# 2. k-means with exact K-value (k=12)\n",
    "from sklearn.preprocessing import LabelEncoder\n",
    "from sklearn.cluster import KMeans\n",
    "from sklearn.metrics import silhouette_score, adjusted_rand_score\n",
    "\n",
    "def evaluate_clustering(distance_matrix, name,y_labels, k=12):\n",
    "    kmeans = KMeans(n_clusters=k, random_state=0).fit(distance_matrix)\n",
    "    labels = kmeans.labels_\n",
    "\n",
    "    y_encoded = LabelEncoder().fit_transform(y_labels)\n",
    "    sil = silhouette_score(distance_matrix, labels, metric='precomputed')\n",
    "    rand = adjusted_rand_score(y_encoded, labels)\n",
    "    print(f\"{name} - Silhouette score: {sil}\")\n",
    "    print(f\"{name} - Adjusted rand score: {rand}\")\n",
    "\n",
    "    return labels, sil, rand\n"
   ]
  },
  {
   "cell_type": "markdown",
   "metadata": {},
   "source": [
    "## Compare Euclidean distance and Geodesic distance"
   ]
  },
  {
   "cell_type": "code",
   "execution_count": null,
   "metadata": {
    "ExecuteTime": {
     "start_time": "2023-11-29T07:30:36.742523Z"
    }
   },
   "outputs": [],
   "source": [
    "\n",
    "y_geodesic_encoded = LabelEncoder().fit_transform(y_geodesic)\n",
    "y_euclidean_encoded = LabelEncoder().fit_transform(y_euclidean)\n",
    "\n",
    "labels_dDiam, sil_diam, rand_diam = evaluate_clustering(dDiam_matrix, \"dDiam\", y_geodesic, k=12)\n",
    "labels_d_G_1, sil_d_G_1, rand_d_G_1 = evaluate_clustering(d_G_1_matrix, \"d_G_1\", y_geodesic, k=12)\n",
    "labels_d_G_inf, sil_d_G_inf, rand_d_G_inf = evaluate_clustering(d_G_inf_matrix, \"d_G_inf\", y_geodesic, k=12)\n",
    "labels_d_E_inf, sil_d_E_inf, rand_d_E_inf = evaluate_clustering(d_E_inf_matrix, \"d_E_inf\", y_euclidean, k=12)\n",
    "\n",
    "plt.figure(0, figsize=(15, 7))\n",
    "# bar plot. sil_diam rand_diam  sil_d_G_1 rand_d_G_1 sil_d_G_inf rand_d_G_inf sil_d_E_inf rand_d_E_inf\n",
    "plt.bar([\"dDiam\", \"d_G_1\", \"d_G_inf\", \"d_E_inf\"], [sil_diam, sil_d_G_1, sil_d_G_inf, sil_d_E_inf], color = \"skyblue\")\n",
    "plt.xlabel(\"Distance matrix\")\n",
    "plt.ylabel(\"Silhouette score\")\n",
    "plt.title(\"Silhouette score of each distance matrix\")\n",
    "plt.xticks(rotation=45)\n",
    "plt.show()\n",
    "\n",
    "cluster_eval_df = pd.DataFrame({\"distance_matrix\": [\"dDiam\", \"d_G_1\", \"d_G_inf\", \"d_E_inf\"],\n",
    "                                \"silhouette_score\": [sil_diam, sil_d_G_1, sil_d_G_inf, sil_d_E_inf],\n",
    "                                \"adjusted_rand_score\": [rand_diam, rand_d_G_1, rand_d_G_inf, rand_d_E_inf]})\n",
    "\n",
    "\n",
    "# Reshape for plotting\n",
    "df_melted = cluster_eval_df.melt(id_vars='distance_matrix', var_name='Score_Type', value_name='Score')\n",
    "\n",
    "# Plot\n",
    "plt.figure(figsize=(10, 6))\n",
    "sns.barplot(x='distance_matrix', y='Score', hue='Score_Type', data=df_melted)\n",
    "\n",
    "# Customizing the plot\n",
    "plt.xlabel('Distance Metric')\n",
    "plt.ylabel('Score')\n",
    "plt.title('Comparison of Silhouette Scores and Adjusted Rand Scores')\n",
    "plt.legend(title='Score Type')\n",
    "\n",
    "# Show the plot\n",
    "plt.show()\n"
   ]
  },
  {
   "cell_type": "code",
   "execution_count": null,
   "metadata": {},
   "outputs": [],
   "source": []
  }
 ],
 "metadata": {
  "kernelspec": {
   "display_name": "tda_newer",
   "language": "python",
   "name": "python3"
  },
  "language_info": {
   "codemirror_mode": {
    "name": "ipython",
    "version": 3
   },
   "file_extension": ".py",
   "mimetype": "text/x-python",
   "name": "python",
   "nbconvert_exporter": "python",
   "pygments_lexer": "ipython3",
   "version": "3.11.6"
  },
  "orig_nbformat": 4
 },
 "nbformat": 4,
 "nbformat_minor": 2
}
