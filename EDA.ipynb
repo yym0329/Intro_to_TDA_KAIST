{
 "cells": [
  {
   "cell_type": "code",
   "execution_count": 1,
   "metadata": {},
   "outputs": [],
   "source": [
    "from scipy.io import loadmat, savemat\n",
    "import numpy as np\n",
    "import networkx as nx"
   ]
  },
  {
   "cell_type": "code",
   "execution_count": 2,
   "metadata": {},
   "outputs": [],
   "source": [
    "import zipfile\n",
    "\n",
    "with zipfile.ZipFile('data/nonrigid3d.zip', 'r') as zip_ref:\n",
    "    zip_ref.extractall('data/')"
   ]
  },
  {
   "cell_type": "code",
   "execution_count": 3,
   "metadata": {},
   "outputs": [],
   "source": [
    "# Load the .mat file\n",
    "shape_path = 'data/nonrigid3d/cat0.mat'\n",
    "mat_data = loadmat(shape_path)\n",
    "surface_data = mat_data['surface']\n",
    "\n",
    "# Extract vertices and triangle indices\n",
    "X = surface_data['X'][0, 0].flatten()\n",
    "Y = surface_data['Y'][0, 0].flatten()\n",
    "Z = surface_data['Z'][0, 0].flatten()\n",
    "vertices = np.column_stack((X, Y, Z))\n",
    "triangles = surface_data['TRIV'][0, 0] - 1  # Adjust for 0-based indexing in Python\n"
   ]
  },
  {
   "cell_type": "code",
   "execution_count": 4,
   "metadata": {},
   "outputs": [
    {
     "data": {
      "text/plain": [
       "((3400, 3), (6768, 3))"
      ]
     },
     "execution_count": 4,
     "metadata": {},
     "output_type": "execute_result"
    }
   ],
   "source": [
    "vertices.shape, triangles.shape"
   ]
  },
  {
   "cell_type": "code",
   "execution_count": 5,
   "metadata": {},
   "outputs": [
    {
     "data": {
      "text/plain": [
       "array([ 8, 16,  4], dtype=uint16)"
      ]
     },
     "execution_count": 5,
     "metadata": {},
     "output_type": "execute_result"
    }
   ],
   "source": [
    "triangles[0,:]"
   ]
  },
  {
   "cell_type": "code",
   "execution_count": 6,
   "metadata": {},
   "outputs": [],
   "source": [
    "G = nx.Graph()\n",
    "for i, vertex in enumerate(vertices):\n",
    "    G.add_node(i, pos=vertex)\n",
    "\n",
    "for triangle in triangles:\n",
    "    edge1 = (triangle[0], triangle[1])\n",
    "    edge2 = (triangle[0], triangle[2])\n",
    "    edge3 = (triangle[1], triangle[2])\n",
    "\n",
    "    weight_1 = np.linalg.norm(vertices[edge1[0]] - vertices[edge1[1]])\n",
    "    weight_2 = np.linalg.norm(vertices[edge2[0]] - vertices[edge2[1]])\n",
    "    weight_3 = np.linalg.norm(vertices[edge3[0]] - vertices[edge3[1]])\n",
    "\n",
    "    G.add_edge(*edge1, weight=weight_1)\n",
    "    G.add_edge(*edge2, weight=weight_2)\n",
    "    G.add_edge(*edge3, weight=weight_3)\n",
    "\n"
   ]
  },
  {
   "cell_type": "code",
   "execution_count": 7,
   "metadata": {},
   "outputs": [
    {
     "name": "stdout",
     "output_type": "stream",
     "text": [
      "35.327768325805664\n"
     ]
    },
    {
     "data": {
      "text/plain": [
       "32.68497073110362"
      ]
     },
     "execution_count": 7,
     "metadata": {},
     "output_type": "execute_result"
    }
   ],
   "source": [
    "import time\n",
    "st = time.time()\n",
    "l = nx.shortest_path_length(G, 0,20, weight='weight')\n",
    "print((time.time()-st)*G.number_of_nodes())\n",
    "l"
   ]
  },
  {
   "cell_type": "code",
   "execution_count": 8,
   "metadata": {},
   "outputs": [],
   "source": [
    "from tqdm.notebook import tqdm\n",
    "def geodesic_distance_matrix(G):\n",
    "    n = G.number_of_nodes()\n",
    "    distance_matrix = np.zeros((n, n))\n",
    "    tqdm_bar = tqdm(range(n*n))\n",
    "    for i in range(n):\n",
    "        for j in range(n):\n",
    "            distance_matrix[i, j] = nx.shortest_path_length(G, i, j, weight='weight')\n",
    "            tqdm_bar.update(1)\n",
    "    return distance_matrix\n"
   ]
  },
  {
   "cell_type": "code",
   "execution_count": 9,
   "metadata": {},
   "outputs": [
    {
     "name": "stdout",
     "output_type": "stream",
     "text": [
      "Average time per calculation: 0.01011962890625 sec\n",
      "Estimated time: min, 1949.7151692708333, sec, 42.91015625\n",
      "Use single thread\n",
      "The current weight setting is None\n"
     ]
    },
    {
     "name": "stderr",
     "output_type": "stream",
     "text": [
      "  0%|          | 0/3400 [00:00<?, ?it/s]"
     ]
    },
    {
     "name": "stderr",
     "output_type": "stream",
     "text": [
      "  0%|          | 0/3400 [00:02<?, ?it/s]\n"
     ]
    },
    {
     "ename": "KeyboardInterrupt",
     "evalue": "",
     "output_type": "error",
     "traceback": [
      "\u001b[0;31m---------------------------------------------------------------------------\u001b[0m",
      "\u001b[0;31mKeyboardInterrupt\u001b[0m                         Traceback (most recent call last)",
      "Cell \u001b[0;32mIn[9], line 2\u001b[0m\n\u001b[1;32m      1\u001b[0m \u001b[39mimport\u001b[39;00m \u001b[39msrc\u001b[39;00m\u001b[39m.\u001b[39;00m\u001b[39mpreprocessing\u001b[39;00m\u001b[39m.\u001b[39;00m\u001b[39mpreprocessing\u001b[39;00m \u001b[39mas\u001b[39;00m \u001b[39mpp\u001b[39;00m\n\u001b[0;32m----> 2\u001b[0m D \u001b[39m=\u001b[39m pp\u001b[39m.\u001b[39;49mconstruct_geodesic_distance_matrix(G, weight\u001b[39m=\u001b[39;49m\u001b[39mNone\u001b[39;49;00m, use_parallel\u001b[39m=\u001b[39;49m\u001b[39mFalse\u001b[39;49;00m)\n\u001b[1;32m      3\u001b[0m \u001b[39m# list = pp.farthest_first_sampling(G, 200)\u001b[39;00m\n",
      "File \u001b[0;32m~/kaist/tda/Intro_to_TDA_KAIST/src/preprocessing/preprocessing.py:98\u001b[0m, in \u001b[0;36mconstruct_geodesic_distance_matrix\u001b[0;34m(G, weight, use_parallel)\u001b[0m\n\u001b[1;32m     96\u001b[0m     \u001b[39mfor\u001b[39;00m i \u001b[39min\u001b[39;00m tqdm(\u001b[39mrange\u001b[39m(n)):\n\u001b[1;32m     97\u001b[0m         \u001b[39mfor\u001b[39;00m j \u001b[39min\u001b[39;00m \u001b[39mrange\u001b[39m(n):\n\u001b[0;32m---> 98\u001b[0m             distance_matrix[i, j] \u001b[39m=\u001b[39m nx\u001b[39m.\u001b[39;49mshortest_path_length(G, i, j, weight\u001b[39m=\u001b[39;49mweight)\n\u001b[1;32m    100\u001b[0m \u001b[39melse\u001b[39;00m:\n\u001b[1;32m    101\u001b[0m     futures \u001b[39m=\u001b[39m []\n",
      "File \u001b[0;32m~/mambaforge/envs/tda/lib/python3.9/site-packages/networkx/utils/backends.py:412\u001b[0m, in \u001b[0;36m_dispatch.__call__\u001b[0;34m(self, backend, *args, **kwargs)\u001b[0m\n\u001b[1;32m    409\u001b[0m \u001b[39mdef\u001b[39;00m \u001b[39m__call__\u001b[39m(\u001b[39mself\u001b[39m, \u001b[39m/\u001b[39m, \u001b[39m*\u001b[39margs, backend\u001b[39m=\u001b[39m\u001b[39mNone\u001b[39;00m, \u001b[39m*\u001b[39m\u001b[39m*\u001b[39mkwargs):\n\u001b[1;32m    410\u001b[0m     \u001b[39mif\u001b[39;00m \u001b[39mnot\u001b[39;00m backends:\n\u001b[1;32m    411\u001b[0m         \u001b[39m# Fast path if no backends are installed\u001b[39;00m\n\u001b[0;32m--> 412\u001b[0m         \u001b[39mreturn\u001b[39;00m \u001b[39mself\u001b[39;49m\u001b[39m.\u001b[39;49morig_func(\u001b[39m*\u001b[39;49margs, \u001b[39m*\u001b[39;49m\u001b[39m*\u001b[39;49mkwargs)\n\u001b[1;32m    414\u001b[0m     \u001b[39m# Use `backend_name` in this function instead of `backend`\u001b[39;00m\n\u001b[1;32m    415\u001b[0m     backend_name \u001b[39m=\u001b[39m backend\n",
      "File \u001b[0;32m~/mambaforge/envs/tda/lib/python3.9/site-packages/networkx/algorithms/shortest_paths/generic.py:316\u001b[0m, in \u001b[0;36mshortest_path_length\u001b[0;34m(G, source, target, weight, method)\u001b[0m\n\u001b[1;32m    313\u001b[0m \u001b[39melse\u001b[39;00m:\n\u001b[1;32m    314\u001b[0m     \u001b[39m# Find shortest source-target path.\u001b[39;00m\n\u001b[1;32m    315\u001b[0m     \u001b[39mif\u001b[39;00m method \u001b[39m==\u001b[39m \u001b[39m\"\u001b[39m\u001b[39munweighted\u001b[39m\u001b[39m\"\u001b[39m:\n\u001b[0;32m--> 316\u001b[0m         p \u001b[39m=\u001b[39m nx\u001b[39m.\u001b[39;49mbidirectional_shortest_path(G, source, target)\n\u001b[1;32m    317\u001b[0m         paths \u001b[39m=\u001b[39m \u001b[39mlen\u001b[39m(p) \u001b[39m-\u001b[39m \u001b[39m1\u001b[39m\n\u001b[1;32m    318\u001b[0m     \u001b[39melif\u001b[39;00m method \u001b[39m==\u001b[39m \u001b[39m\"\u001b[39m\u001b[39mdijkstra\u001b[39m\u001b[39m\"\u001b[39m:\n",
      "File \u001b[0;32m~/mambaforge/envs/tda/lib/python3.9/site-packages/networkx/utils/backends.py:412\u001b[0m, in \u001b[0;36m_dispatch.__call__\u001b[0;34m(self, backend, *args, **kwargs)\u001b[0m\n\u001b[1;32m    409\u001b[0m \u001b[39mdef\u001b[39;00m \u001b[39m__call__\u001b[39m(\u001b[39mself\u001b[39m, \u001b[39m/\u001b[39m, \u001b[39m*\u001b[39margs, backend\u001b[39m=\u001b[39m\u001b[39mNone\u001b[39;00m, \u001b[39m*\u001b[39m\u001b[39m*\u001b[39mkwargs):\n\u001b[1;32m    410\u001b[0m     \u001b[39mif\u001b[39;00m \u001b[39mnot\u001b[39;00m backends:\n\u001b[1;32m    411\u001b[0m         \u001b[39m# Fast path if no backends are installed\u001b[39;00m\n\u001b[0;32m--> 412\u001b[0m         \u001b[39mreturn\u001b[39;00m \u001b[39mself\u001b[39;49m\u001b[39m.\u001b[39;49morig_func(\u001b[39m*\u001b[39;49margs, \u001b[39m*\u001b[39;49m\u001b[39m*\u001b[39;49mkwargs)\n\u001b[1;32m    414\u001b[0m     \u001b[39m# Use `backend_name` in this function instead of `backend`\u001b[39;00m\n\u001b[1;32m    415\u001b[0m     backend_name \u001b[39m=\u001b[39m backend\n",
      "File \u001b[0;32m~/mambaforge/envs/tda/lib/python3.9/site-packages/networkx/algorithms/shortest_paths/unweighted.py:241\u001b[0m, in \u001b[0;36mbidirectional_shortest_path\u001b[0;34m(G, source, target)\u001b[0m\n\u001b[1;32m    238\u001b[0m     \u001b[39mraise\u001b[39;00m nx\u001b[39m.\u001b[39mNodeNotFound(msg)\n\u001b[1;32m    240\u001b[0m \u001b[39m# call helper to do the real work\u001b[39;00m\n\u001b[0;32m--> 241\u001b[0m results \u001b[39m=\u001b[39m _bidirectional_pred_succ(G, source, target)\n\u001b[1;32m    242\u001b[0m pred, succ, w \u001b[39m=\u001b[39m results\n\u001b[1;32m    244\u001b[0m \u001b[39m# build path from pred+w+succ\u001b[39;00m\n",
      "File \u001b[0;32m~/mambaforge/envs/tda/lib/python3.9/site-packages/networkx/algorithms/shortest_paths/unweighted.py:302\u001b[0m, in \u001b[0;36m_bidirectional_pred_succ\u001b[0;34m(G, source, target)\u001b[0m\n\u001b[1;32m    300\u001b[0m reverse_fringe \u001b[39m=\u001b[39m []\n\u001b[1;32m    301\u001b[0m \u001b[39mfor\u001b[39;00m v \u001b[39min\u001b[39;00m this_level:\n\u001b[0;32m--> 302\u001b[0m     \u001b[39mfor\u001b[39;00m w \u001b[39min\u001b[39;00m Gpred[v]:\n\u001b[1;32m    303\u001b[0m         \u001b[39mif\u001b[39;00m w \u001b[39mnot\u001b[39;00m \u001b[39min\u001b[39;00m succ:\n\u001b[1;32m    304\u001b[0m             succ[w] \u001b[39m=\u001b[39m v\n",
      "File \u001b[0;32m~/mambaforge/envs/tda/lib/python3.9/site-packages/networkx/classes/coreviews.py:50\u001b[0m, in \u001b[0;36mAtlasView.__iter__\u001b[0;34m(self)\u001b[0m\n\u001b[1;32m     49\u001b[0m \u001b[39mdef\u001b[39;00m \u001b[39m__iter__\u001b[39m(\u001b[39mself\u001b[39m):\n\u001b[0;32m---> 50\u001b[0m     \u001b[39mreturn\u001b[39;00m \u001b[39miter\u001b[39;49m(\u001b[39mself\u001b[39;49m\u001b[39m.\u001b[39;49m_atlas)\n",
      "\u001b[0;31mKeyboardInterrupt\u001b[0m: "
     ]
    }
   ],
   "source": [
    "import src.preprocessing.preprocessing as pp\n",
    "D = pp.construct_geodesic_distance_matrix(G, weight=None, use_parallel=False)\n",
    "# list = pp.farthest_first_sampling(G, 200)"
   ]
  },
  {
   "cell_type": "code",
   "execution_count": null,
   "metadata": {},
   "outputs": [
    {
     "ename": "",
     "evalue": "",
     "output_type": "error",
     "traceback": [
      "\u001b[1;31mRunning cells with 'tda' requires the ipykernel package.\n",
      "\u001b[1;31mRun the following command to install 'ipykernel' into the Python environment. \n",
      "\u001b[1;31mCommand: 'conda install -n tda ipykernel --update-deps --force-reinstall'"
     ]
    },
    {
     "ename": "",
     "evalue": "",
     "output_type": "error",
     "traceback": [
      "\u001b[1;31mnotebook controller is DISPOSED. \n",
      "\u001b[1;31mView Jupyter <a href='command:jupyter.viewOutput'>log</a> for further details."
     ]
    },
    {
     "ename": "",
     "evalue": "",
     "output_type": "error",
     "traceback": [
      "\u001b[1;31mnotebook controller is DISPOSED. \n",
      "\u001b[1;31mView Jupyter <a href='command:jupyter.viewOutput'>log</a> for further details."
     ]
    }
   ],
   "source": [
    "# n = G.number_of_nodes()\n",
    "# st = time.time()\n",
    "# for i in range(n):\n",
    "#     nx.shortest_path_length(G, 0, i, weight='weight')\n",
    "# elapsed = time.time() - st\n",
    "# print(f\"Elapsed time: {elapsed} seconds, total estimate = {elapsed*n} seconds\")"
   ]
  }
 ],
 "metadata": {
  "kernelspec": {
   "display_name": "actnova-yolo",
   "language": "python",
   "name": "python3"
  },
  "language_info": {
   "codemirror_mode": {
    "name": "ipython",
    "version": 3
   },
   "file_extension": ".py",
   "mimetype": "text/x-python",
   "name": "python",
   "nbconvert_exporter": "python",
   "pygments_lexer": "ipython3",
   "version": "3.9.18"
  }
 },
 "nbformat": 4,
 "nbformat_minor": 2
}
