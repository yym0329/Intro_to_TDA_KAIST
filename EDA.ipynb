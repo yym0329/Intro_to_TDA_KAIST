{
 "cells": [
  {
   "cell_type": "code",
   "execution_count": null,
   "metadata": {},
   "outputs": [],
   "source": [
    "from scipy.io import loadmat, savemat\n",
    "import numpy as np\n",
    "import networkx as nx"
   ]
  },
  {
   "cell_type": "code",
   "execution_count": null,
   "metadata": {},
   "outputs": [],
   "source": [
    "import zipfile\n",
    "\n",
    "with zipfile.ZipFile('data/nonrigid3d.zip', 'r') as zip_ref:\n",
    "    zip_ref.extractall('data/')"
   ]
  },
  {
   "cell_type": "code",
   "execution_count": null,
   "metadata": {},
   "outputs": [],
   "source": [
    "# Load the .mat file\n",
    "shape_path = 'data/nonrigid3d/cat0.mat'\n",
    "mat_data = loadmat(shape_path)\n",
    "surface_data = mat_data['surface']\n",
    "\n",
    "# Extract vertices and triangle indices\n",
    "X = surface_data['X'][0, 0].flatten()\n",
    "Y = surface_data['Y'][0, 0].flatten()\n",
    "Z = surface_data['Z'][0, 0].flatten()\n",
    "vertices = np.column_stack((X, Y, Z))\n",
    "triangles = surface_data['TRIV'][0, 0] - 1  # Adjust for 0-based indexing in Python\n"
   ]
  },
  {
   "cell_type": "code",
   "execution_count": null,
   "metadata": {},
   "outputs": [],
   "source": [
    "vertices.shape, triangles.shape"
   ]
  },
  {
   "cell_type": "code",
   "execution_count": null,
   "metadata": {},
   "outputs": [],
   "source": [
    "triangles[0,:]"
   ]
  },
  {
   "cell_type": "code",
   "execution_count": null,
   "metadata": {},
   "outputs": [],
   "source": [
    "G = nx.Graph()\n",
    "for i, vertex in enumerate(vertices):\n",
    "    G.add_node(i, pos=vertex)\n",
    "\n",
    "for triangle in triangles:\n",
    "    edge1 = (triangle[0], triangle[1])\n",
    "    edge2 = (triangle[0], triangle[2])\n",
    "    edge3 = (triangle[1], triangle[2])\n",
    "\n",
    "    weight_1 = np.linalg.norm(vertices[edge1[0]] - vertices[edge1[1]])\n",
    "    weight_2 = np.linalg.norm(vertices[edge2[0]] - vertices[edge2[1]])\n",
    "    weight_3 = np.linalg.norm(vertices[edge3[0]] - vertices[edge3[1]])\n",
    "\n",
    "    G.add_edge(*edge1, weight=weight_1)\n",
    "    G.add_edge(*edge2, weight=weight_2)\n",
    "    G.add_edge(*edge3, weight=weight_3)\n",
    "\n"
   ]
  },
  {
   "cell_type": "code",
   "execution_count": null,
   "metadata": {},
   "outputs": [],
   "source": [
    "import time\n",
    "st = time.time()\n",
    "l = nx.shortest_path_length(G, 0,20, weight='weight')\n",
    "print((time.time()-st)*G.number_of_nodes())\n",
    "l"
   ]
  },
  {
   "cell_type": "code",
   "execution_count": null,
   "metadata": {},
   "outputs": [],
   "source": [
    "from tqdm.notebook import tqdm\n",
    "def geodesic_distance_matrix(G):\n",
    "    n = G.number_of_nodes()\n",
    "    distance_matrix = np.zeros((n, n))\n",
    "    tqdm_bar = tqdm(range(n*n))\n",
    "    for i in range(n):\n",
    "        for j in range(n):\n",
    "            distance_matrix[i, j] = nx.shortest_path_length(G, i, j, weight='weight')\n",
    "            tqdm_bar.update(1)\n",
    "    return distance_matrix\n"
   ]
  },
  {
   "cell_type": "code",
   "execution_count": null,
   "metadata": {},
   "outputs": [],
   "source": [
    "import src.preprocessing.preprocessing as pp\n",
    "D = pp.construct_geodesic_distance_matrix(G)\n",
    "# list = pp.farthest_first_sampling(G, 200)"
   ]
  },
  {
   "cell_type": "code",
   "execution_count": null,
   "metadata": {},
   "outputs": [],
   "source": []
  },
  {
   "cell_type": "code",
   "execution_count": null,
   "metadata": {},
   "outputs": [],
   "source": [
    "# n = G.number_of_nodes()\n",
    "# st = time.time()\n",
    "# for i in range(n):\n",
    "#     nx.shortest_path_length(G, 0, i, weight='weight')\n",
    "# elapsed = time.time() - st\n",
    "# print(f\"Elapsed time: {elapsed} seconds, total estimate = {elapsed*n} seconds\")"
   ]
  }
 ],
 "metadata": {
  "kernelspec": {
   "display_name": "actnova-yolo",
   "language": "python",
   "name": "python3"
  },
  "language_info": {
   "codemirror_mode": {
    "name": "ipython",
    "version": 3
   },
   "file_extension": ".py",
   "mimetype": "text/x-python",
   "name": "python",
   "nbconvert_exporter": "python",
   "pygments_lexer": "ipython3",
   "version": "3.11.6"
  }
 },
 "nbformat": 4,
 "nbformat_minor": 2
}
